{
  "nbformat": 4,
  "nbformat_minor": 0,
  "metadata": {
    "colab": {
      "provenance": [],
      "collapsed_sections": []
    },
    "kernelspec": {
      "name": "python3",
      "display_name": "Python 3"
    },
    "language_info": {
      "name": "python"
    },
    "accelerator": "GPU"
  },
  "cells": [
    {
      "cell_type": "code",
      "metadata": {
        "colab": {
          "base_uri": "https://localhost:8080/"
        },
        "id": "fASDIL0tyUXK",
        "outputId": "c36e032c-386c-472e-af2d-6b7f0e886393"
      },
      "source": [
        "from google.colab import drive\n",
        "drive.mount('/content/drive')"
      ],
      "execution_count": null,
      "outputs": [
        {
          "output_type": "stream",
          "text": [
            "Drive already mounted at /content/drive; to attempt to forcibly remount, call drive.mount(\"/content/drive\", force_remount=True).\n"
          ],
          "name": "stdout"
        }
      ]
    },
    {
      "cell_type": "code",
      "metadata": {
        "id": "KhcQWk-qyxV_"
      },
      "source": [
        "import tensorflow as tf\n",
        "import numpy as np\n",
        "import pandas as pd\n",
        "import matplotlib.pyplot as plt\n",
        "\n",
        "from tensorflow.keras import Sequential, Model\n",
        "from tensorflow.keras.layers import Dense, BatchNormalization, Dropout, Activation, Input, Flatten, Conv2D, AveragePooling2D, MaxPool2D, GlobalAveragePooling2D\n",
        "from tensorflow.keras.optimizers import Adam, SGD, RMSprop, Adadelta, Adagrad\n",
        "from tensorflow.keras.losses import BinaryCrossentropy\n",
        "\n",
        "from sklearn.model_selection import train_test_split"
      ],
      "execution_count": null,
      "outputs": []
    },
    {
      "cell_type": "code",
      "metadata": {
        "colab": {
          "base_uri": "https://localhost:8080/"
        },
        "id": "lHrP7qKtyx0b",
        "outputId": "c14c9fe7-4f45-4647-ff8a-a0f9d6f42d8e"
      },
      "source": [
        "x_train = np.load('/content/drive/MyDrive/IJCNN/x_train.npy')\n",
        "x_test = np.load('/content/drive/MyDrive/IJCNN/x_test.npy')\n",
        "y_train = np.load('/content/drive/MyDrive/IJCNN/y_train.npy')\n",
        "y_test = np.load('/content/drive/MyDrive/IJCNN/y_test.npy')\n",
        "print(y_train.sum()/y_train.shape[0], y_test.sum()/y_test.shape[0])"
      ],
      "execution_count": null,
      "outputs": [
        {
          "output_type": "stream",
          "text": [
            "0.5005160989578131 0.4984517031265608\n"
          ],
          "name": "stdout"
        }
      ]
    },
    {
      "cell_type": "code",
      "metadata": {
        "id": "V8WAHdMLynB9"
      },
      "source": [
        "model = Sequential((\n",
        "    Input((12210,)),\n",
        "    Dense(4096, activation='relu'),\n",
        "    Dense(12210, activation='sigmoid')\n",
        "))"
      ],
      "execution_count": null,
      "outputs": []
    },
    {
      "cell_type": "code",
      "metadata": {
        "colab": {
          "base_uri": "https://localhost:8080/"
        },
        "id": "EqiOoQ8Fy8u2",
        "outputId": "140fd7e0-e5e6-4553-eb8c-95e5e6d8bb6a"
      },
      "source": [
        "model.summary()"
      ],
      "execution_count": null,
      "outputs": [
        {
          "output_type": "stream",
          "text": [
            "Model: \"sequential\"\n",
            "_________________________________________________________________\n",
            "Layer (type)                 Output Shape              Param #   \n",
            "=================================================================\n",
            "dense (Dense)                (None, 4096)              50016256  \n",
            "_________________________________________________________________\n",
            "dense_1 (Dense)              (None, 12210)             50024370  \n",
            "=================================================================\n",
            "Total params: 100,040,626\n",
            "Trainable params: 100,040,626\n",
            "Non-trainable params: 0\n",
            "_________________________________________________________________\n"
          ],
          "name": "stdout"
        }
      ]
    },
    {
      "cell_type": "code",
      "metadata": {
        "colab": {
          "base_uri": "https://localhost:8080/"
        },
        "id": "9WrN9OiIy-Hs",
        "outputId": "e295a554-daaf-4bff-bfbc-41fb2ade988a"
      },
      "source": [
        "model.compile(optimizer=SGD(0.01), loss=tf.keras.losses.MSE)\n",
        "model.fit(x_train, y_train, batch_size=32, epochs=10, validation_data=(x_test, y_test))"
      ],
      "execution_count": null,
      "outputs": [
        {
          "output_type": "stream",
          "text": [
            "Epoch 1/10\n",
            "939/939 [==============================] - 16s 15ms/step - loss: 0.2595 - val_loss: 0.2519\n",
            "Epoch 2/10\n",
            "939/939 [==============================] - 14s 15ms/step - loss: 0.2513 - val_loss: 0.2504\n",
            "Epoch 3/10\n",
            "939/939 [==============================] - 14s 14ms/step - loss: 0.2503 - val_loss: 0.2501\n",
            "Epoch 4/10\n",
            "939/939 [==============================] - 14s 15ms/step - loss: 0.2500 - val_loss: 0.2500\n",
            "Epoch 5/10\n",
            "939/939 [==============================] - 14s 15ms/step - loss: 0.2499 - val_loss: 0.2499\n",
            "Epoch 6/10\n",
            "939/939 [==============================] - 14s 15ms/step - loss: 0.2499 - val_loss: 0.2499\n",
            "Epoch 7/10\n",
            "939/939 [==============================] - 14s 14ms/step - loss: 0.2499 - val_loss: 0.2499\n",
            "Epoch 8/10\n",
            "939/939 [==============================] - 14s 14ms/step - loss: 0.2499 - val_loss: 0.2498\n",
            "Epoch 9/10\n",
            "939/939 [==============================] - 14s 15ms/step - loss: 0.2498 - val_loss: 0.2498\n",
            "Epoch 10/10\n",
            "939/939 [==============================] - 14s 14ms/step - loss: 0.2498 - val_loss: 0.2498\n"
          ],
          "name": "stdout"
        },
        {
          "output_type": "execute_result",
          "data": {
            "text/plain": [
              "<tensorflow.python.keras.callbacks.History at 0x7f7ac075b110>"
            ]
          },
          "metadata": {
            "tags": []
          },
          "execution_count": 7
        }
      ]
    },
    {
      "cell_type": "code",
      "metadata": {
        "colab": {
          "base_uri": "https://localhost:8080/"
        },
        "id": "nwOXfw6qzQOT",
        "outputId": "9928f7ba-0bbe-4b0a-a79a-78fd16b8d45d"
      },
      "source": [
        "extractor = Model(inputs=model.input, outputs=model.get_layer('dense').output)\n",
        "extractor.summary()"
      ],
      "execution_count": null,
      "outputs": [
        {
          "output_type": "stream",
          "text": [
            "Model: \"model\"\n",
            "_________________________________________________________________\n",
            "Layer (type)                 Output Shape              Param #   \n",
            "=================================================================\n",
            "input_1 (InputLayer)         [(None, 12210)]           0         \n",
            "_________________________________________________________________\n",
            "dense (Dense)                (None, 4096)              50016256  \n",
            "=================================================================\n",
            "Total params: 50,016,256\n",
            "Trainable params: 50,016,256\n",
            "Non-trainable params: 0\n",
            "_________________________________________________________________\n"
          ],
          "name": "stdout"
        }
      ]
    },
    {
      "cell_type": "code",
      "metadata": {
        "id": "MYICm9Vkz6Oo"
      },
      "source": [
        "x_train2 = extractor.predict(x_train)\n",
        "x_test2 = extractor.predict(x_test)"
      ],
      "execution_count": null,
      "outputs": []
    },
    {
      "cell_type": "code",
      "metadata": {
        "id": "Y0QZCVCezt36"
      },
      "source": [
        "model = Sequential((\n",
        "    Input((4096,)),\n",
        "    Dense(1024),\n",
        "    Activation('relu'),\n",
        "    Dense(1, activation='sigmoid')\n",
        "))"
      ],
      "execution_count": null,
      "outputs": []
    },
    {
      "cell_type": "code",
      "metadata": {
        "colab": {
          "base_uri": "https://localhost:8080/"
        },
        "id": "I_NbqWP9z3g3",
        "outputId": "83ef3575-78b5-439e-cf59-ef499987b26b"
      },
      "source": [
        "model.compile(optimizer=SGD(0.01), loss=BinaryCrossentropy(), metrics=['accuracy'])\n",
        "model.fit(x_train2, y_train, batch_size=32, epochs=10, validation_data=(x_test2, y_test))"
      ],
      "execution_count": null,
      "outputs": [
        {
          "output_type": "stream",
          "text": [
            "Epoch 1/10\n",
            "939/939 [==============================] - 4s 4ms/step - loss: 0.6678 - accuracy: 0.6026 - val_loss: 0.6481 - val_accuracy: 0.6212\n",
            "Epoch 2/10\n",
            "939/939 [==============================] - 4s 4ms/step - loss: 0.6436 - accuracy: 0.6292 - val_loss: 0.6405 - val_accuracy: 0.6281\n",
            "Epoch 3/10\n",
            "939/939 [==============================] - 3s 4ms/step - loss: 0.6341 - accuracy: 0.6413 - val_loss: 0.6348 - val_accuracy: 0.6344\n",
            "Epoch 4/10\n",
            "939/939 [==============================] - 4s 4ms/step - loss: 0.6280 - accuracy: 0.6492 - val_loss: 0.6305 - val_accuracy: 0.6372\n",
            "Epoch 5/10\n",
            "939/939 [==============================] - 4s 4ms/step - loss: 0.6291 - accuracy: 0.6453 - val_loss: 0.6272 - val_accuracy: 0.6391\n",
            "Epoch 6/10\n",
            "939/939 [==============================] - 4s 4ms/step - loss: 0.6215 - accuracy: 0.6515 - val_loss: 0.6239 - val_accuracy: 0.6420\n",
            "Epoch 7/10\n",
            "939/939 [==============================] - 4s 4ms/step - loss: 0.6173 - accuracy: 0.6559 - val_loss: 0.6208 - val_accuracy: 0.6450\n",
            "Epoch 8/10\n",
            "939/939 [==============================] - 4s 4ms/step - loss: 0.6138 - accuracy: 0.6580 - val_loss: 0.6200 - val_accuracy: 0.6456\n",
            "Epoch 9/10\n",
            "939/939 [==============================] - 4s 4ms/step - loss: 0.6088 - accuracy: 0.6622 - val_loss: 0.6167 - val_accuracy: 0.6498\n",
            "Epoch 10/10\n",
            "939/939 [==============================] - 4s 4ms/step - loss: 0.6073 - accuracy: 0.6638 - val_loss: 0.6149 - val_accuracy: 0.6566\n"
          ],
          "name": "stdout"
        },
        {
          "output_type": "execute_result",
          "data": {
            "text/plain": [
              "<tensorflow.python.keras.callbacks.History at 0x7f7ac07c7d10>"
            ]
          },
          "metadata": {
            "tags": []
          },
          "execution_count": 22
        }
      ]
    },
    {
      "cell_type": "code",
      "metadata": {
        "colab": {
          "base_uri": "https://localhost:8080/"
        },
        "id": "8qO5PuJ119LI",
        "outputId": "a5f1f350-0de6-4b29-f007-49c9c079f192"
      },
      "source": [
        "model.evaluate(x_train2, y_train)\n",
        "model.evaluate(x_test2, y_test)"
      ],
      "execution_count": null,
      "outputs": [
        {
          "output_type": "stream",
          "text": [
            "939/939 [==============================] - 2s 2ms/step - loss: 0.6071 - accuracy: 0.6738\n",
            "313/313 [==============================] - 1s 2ms/step - loss: 0.6149 - accuracy: 0.6566\n"
          ],
          "name": "stdout"
        },
        {
          "output_type": "execute_result",
          "data": {
            "text/plain": [
              "[0.6149353981018066, 0.6565777659416199]"
            ]
          },
          "metadata": {
            "tags": []
          },
          "execution_count": 23
        }
      ]
    },
    {
      "cell_type": "code",
      "metadata": {
        "id": "_vMop7Is2RHK"
      },
      "source": [
        "class ResidualBlock(tf.keras.layers.Layer):\n",
        "    def __init__(self, n, activation='relu'):\n",
        "        super().__init__()\n",
        "        #self.batch_norm_1 = BatchNormalization()\n",
        "        self.activation_1 = Activation(activation)\n",
        "        self.dense_1 = Dense(n)\n",
        "        #self.batch_norm_2 = BatchNormalization()\n",
        "        self.activation_2 = Activation(activation)\n",
        "        self.dense_2 = Dense(n)\n",
        "    \n",
        "    def call(self, x, training=False):\n",
        "        #x2 = self.batch_norm_1(x, training=training)\n",
        "        x2 = self.activation_1(x)#x2)\n",
        "        x2 = self.dense_1(x2, training=training)\n",
        "        \n",
        "        #x2 = self.batch_norm_2(x2, training=training)\n",
        "        x2 = self.activation_2(x2)\n",
        "        x2 = self.dense_2(x2, training=training)\n",
        "        \n",
        "        return x + x2"
      ],
      "execution_count": null,
      "outputs": []
    },
    {
      "cell_type": "code",
      "metadata": {
        "id": "MzigMWSl2JHo"
      },
      "source": [
        "model = Sequential((\n",
        "    Input((4096,)),\n",
        "    Dense(1024),\n",
        "    ResidualBlock(1024, activation='relu'),\n",
        "    Activation('relu'),\n",
        "    Dense(1, activation='sigmoid')\n",
        "))"
      ],
      "execution_count": null,
      "outputs": []
    },
    {
      "cell_type": "code",
      "metadata": {
        "colab": {
          "base_uri": "https://localhost:8080/"
        },
        "id": "YZ3S0Lsq2UDA",
        "outputId": "c8a816b4-d2f2-426c-8a41-f4db80d9825f"
      },
      "source": [
        "model.compile(optimizer=SGD(0.01), loss=BinaryCrossentropy(), metrics=['accuracy'])\n",
        "model.fit(x_train2, y_train, batch_size=32, epochs=10, validation_data=(x_test2, y_test))"
      ],
      "execution_count": null,
      "outputs": [
        {
          "output_type": "stream",
          "text": [
            "Epoch 1/10\n",
            "939/939 [==============================] - 5s 4ms/step - loss: 0.6652 - accuracy: 0.6074 - val_loss: 0.6440 - val_accuracy: 0.6226\n",
            "Epoch 2/10\n",
            "939/939 [==============================] - 4s 4ms/step - loss: 0.6363 - accuracy: 0.6372 - val_loss: 0.6339 - val_accuracy: 0.6330\n",
            "Epoch 3/10\n",
            "939/939 [==============================] - 4s 4ms/step - loss: 0.6297 - accuracy: 0.6387 - val_loss: 0.6254 - val_accuracy: 0.6425\n",
            "Epoch 4/10\n",
            "939/939 [==============================] - 4s 4ms/step - loss: 0.6174 - accuracy: 0.6579 - val_loss: 0.6221 - val_accuracy: 0.6491\n",
            "Epoch 5/10\n",
            "939/939 [==============================] - 4s 4ms/step - loss: 0.6092 - accuracy: 0.6671 - val_loss: 0.6134 - val_accuracy: 0.6574\n",
            "Epoch 6/10\n",
            "939/939 [==============================] - 4s 4ms/step - loss: 0.6025 - accuracy: 0.6718 - val_loss: 0.6077 - val_accuracy: 0.6614\n",
            "Epoch 7/10\n",
            "939/939 [==============================] - 4s 4ms/step - loss: 0.5963 - accuracy: 0.6734 - val_loss: 0.6008 - val_accuracy: 0.6655\n",
            "Epoch 8/10\n",
            "939/939 [==============================] - 4s 4ms/step - loss: 0.5888 - accuracy: 0.6819 - val_loss: 0.5930 - val_accuracy: 0.6754\n",
            "Epoch 9/10\n",
            "939/939 [==============================] - 4s 4ms/step - loss: 0.5806 - accuracy: 0.6914 - val_loss: 0.5880 - val_accuracy: 0.6827\n",
            "Epoch 10/10\n",
            "939/939 [==============================] - 4s 4ms/step - loss: 0.5682 - accuracy: 0.7018 - val_loss: 0.5853 - val_accuracy: 0.6870\n"
          ],
          "name": "stdout"
        },
        {
          "output_type": "execute_result",
          "data": {
            "text/plain": [
              "<tensorflow.python.keras.callbacks.History at 0x7f79e4c20310>"
            ]
          },
          "metadata": {
            "tags": []
          },
          "execution_count": 30
        }
      ]
    },
    {
      "cell_type": "code",
      "metadata": {
        "colab": {
          "base_uri": "https://localhost:8080/"
        },
        "id": "XDA8q_hC2VqA",
        "outputId": "2a75738d-2c6f-4f35-def0-c1775724d6ca"
      },
      "source": [
        "model.evaluate(x_train2, y_train)\n",
        "model.evaluate(x_test2, y_test)"
      ],
      "execution_count": null,
      "outputs": [
        {
          "output_type": "stream",
          "text": [
            "939/939 [==============================] - 2s 3ms/step - loss: 0.5659 - accuracy: 0.7094\n",
            "313/313 [==============================] - 1s 3ms/step - loss: 0.5853 - accuracy: 0.6870\n"
          ],
          "name": "stdout"
        },
        {
          "output_type": "execute_result",
          "data": {
            "text/plain": [
              "[0.5852788090705872, 0.6870442628860474]"
            ]
          },
          "metadata": {
            "tags": []
          },
          "execution_count": 31
        }
      ]
    },
    {
      "cell_type": "code",
      "metadata": {
        "id": "HuHe04ee2XiY"
      },
      "source": [],
      "execution_count": null,
      "outputs": []
    }
  ]
}