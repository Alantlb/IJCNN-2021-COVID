{
  "cells": [
    {
      "cell_type": "code",
      "execution_count": null,
      "metadata": {
        "colab": {
          "base_uri": "https://localhost:8080/"
        },
        "id": "fASDIL0tyUXK",
        "outputId": "ef396566-7f97-4986-850b-00f4c3f580d3"
      },
      "outputs": [
        {
          "name": "stdout",
          "output_type": "stream",
          "text": [
            "Drive already mounted at /content/drive; to attempt to forcibly remount, call drive.mount(\"/content/drive\", force_remount=True).\n"
          ]
        }
      ],
      "source": [
        "from google.colab import drive\n",
        "drive.mount('/content/drive')"
      ]
    },
    {
      "cell_type": "code",
      "execution_count": null,
      "metadata": {
        "colab": {
          "base_uri": "https://localhost:8080/"
        },
        "id": "8HmQ8oZt7r4l",
        "outputId": "ad8302a0-2076-4fa1-e426-35c92fc5eced"
      },
      "outputs": [
        {
          "name": "stdout",
          "output_type": "stream",
          "text": [
            "Requirement already satisfied: tensorflow-addons in /usr/local/lib/python3.7/dist-packages (0.14.0)\n",
            "Requirement already satisfied: typeguard>=2.7 in /usr/local/lib/python3.7/dist-packages (from tensorflow-addons) (2.7.1)\n"
          ]
        }
      ],
      "source": [
        "!pip install tensorflow-addons"
      ]
    },
    {
      "cell_type": "code",
      "execution_count": null,
      "metadata": {
        "id": "KhcQWk-qyxV_"
      },
      "outputs": [],
      "source": [
        "import tensorflow as tf\n",
        "import tensorflow_addons as tfa\n",
        "import numpy as np\n",
        "\n",
        "from tensorflow.keras import Sequential, Model\n",
        "from tensorflow.keras.layers import Dense, BatchNormalization, Dropout, Activation, Input, Flatten, Conv2D, AveragePooling2D, GlobalAveragePooling2D\n",
        "from tensorflow.keras.optimizers import Adam\n",
        "from tensorflow.keras.losses import BinaryCrossentropy\n",
        "\n",
        "from tensorflow_addons.layers import StochasticDepth\n",
        "\n",
        "from sklearn.model_selection import train_test_split"
      ]
    },
    {
      "cell_type": "code",
      "execution_count": null,
      "metadata": {
        "colab": {
          "base_uri": "https://localhost:8080/"
        },
        "id": "H3GD4ERZgImy",
        "outputId": "d05aa11e-8430-40ec-bd29-e7f15c246bd6"
      },
      "outputs": [
        {
          "name": "stdout",
          "output_type": "stream",
          "text": [
            "Tue Sep 21 12:21:43 2021       \n",
            "+-----------------------------------------------------------------------------+\n",
            "| NVIDIA-SMI 470.63.01    Driver Version: 460.32.03    CUDA Version: 11.2     |\n",
            "|-------------------------------+----------------------+----------------------+\n",
            "| GPU  Name        Persistence-M| Bus-Id        Disp.A | Volatile Uncorr. ECC |\n",
            "| Fan  Temp  Perf  Pwr:Usage/Cap|         Memory-Usage | GPU-Util  Compute M. |\n",
            "|                               |                      |               MIG M. |\n",
            "|===============================+======================+======================|\n",
            "|   0  Tesla P100-PCIE...  Off  | 00000000:00:04.0 Off |                    0 |\n",
            "| N/A   58C    P0    32W / 250W |      0MiB / 16280MiB |      0%      Default |\n",
            "|                               |                      |                  N/A |\n",
            "+-------------------------------+----------------------+----------------------+\n",
            "                                                                               \n",
            "+-----------------------------------------------------------------------------+\n",
            "| Processes:                                                                  |\n",
            "|  GPU   GI   CI        PID   Type   Process name                  GPU Memory |\n",
            "|        ID   ID                                                   Usage      |\n",
            "|=============================================================================|\n",
            "|  No running processes found                                                 |\n",
            "+-----------------------------------------------------------------------------+\n"
          ]
        }
      ],
      "source": [
        "!nvidia-smi"
      ]
    },
    {
      "cell_type": "code",
      "execution_count": null,
      "metadata": {
        "colab": {
          "base_uri": "https://localhost:8080/"
        },
        "id": "KJrIZSRYgMWI",
        "outputId": "a4a11b09-24c6-4703-d150-9711d7b99675"
      },
      "outputs": [
        {
          "name": "stdout",
          "output_type": "stream",
          "text": [
            "Your runtime has 27.3 gigabytes of available RAM\n",
            "\n"
          ]
        }
      ],
      "source": [
        "from psutil import virtual_memory\n",
        "ram_gb = virtual_memory().total / 1e9\n",
        "print('Your runtime has {:.1f} gigabytes of available RAM\\n'.format(ram_gb))"
      ]
    },
    {
      "cell_type": "code",
      "execution_count": null,
      "metadata": {
        "id": "lEmFHI4s937w"
      },
      "outputs": [],
      "source": [
        "IMAGE_SIZE = (74, 55, 3)\n",
        "\n",
        "NUM_MODELS = 6\n",
        "\n",
        "BATCH_SIZE = 32\n",
        "EPOCHS = 40\n",
        "\n",
        "LEARNING_RATE = 0.001\n",
        "DECAY_EPOCHS = 10\n",
        "DECAY_RATE = 0.1\n",
        "STAIRCASE = True"
      ]
    },
    {
      "cell_type": "code",
      "execution_count": null,
      "metadata": {
        "id": "Hex120CQJjQj"
      },
      "outputs": [],
      "source": [
        "features = np.load('/content/drive/MyDrive/IJCNN/features.npy').reshape((-1, *IMAGE_SIZE))\n",
        "labels = np.load('/content/drive/MyDrive/IJCNN/labels.npy')"
      ]
    },
    {
      "cell_type": "code",
      "execution_count": null,
      "metadata": {
        "id": "Vl8QWP8B98SY"
      },
      "outputs": [],
      "source": [
        "x_train, x_test, y_train, y_test = train_test_split(features, labels, test_size=0.25, shuffle=True)\n",
        "del features\n",
        "del labels"
      ]
    },
    {
      "cell_type": "code",
      "execution_count": null,
      "metadata": {
        "id": "VdMscnKN9TEB"
      },
      "outputs": [],
      "source": [
        "class SqueezeAndExcite(tf.keras.layers.Layer):\n",
        "    def __init__(self, n):\n",
        "        super().__init__()\n",
        "        self.n = n\n",
        "\n",
        "    def build(self, input_shape):\n",
        "\n",
        "        self.channels = input_shape[-1]\n",
        "\n",
        "        self.pooling = GlobalAveragePooling2D()\n",
        "        self.dense_1 = Dense(self.n, activation='relu')\n",
        "        self.dense_2 =  Dense(self.channels, activation='sigmoid')\n",
        "\n",
        "    def call(self, x, training=False):\n",
        "\n",
        "        r = self.pooling(x)\n",
        "        r = self.dense_1(r, training=training)\n",
        "        r = self.dense_2(r, training=training)\n",
        "\n",
        "        r = tf.reshape(r, (-1, 1, 1, self.channels))\n",
        "\n",
        "        return x * r\n",
        "\n",
        "class ResidualSEBlock(tf.keras.layers.Layer):\n",
        "    def __init__(self, filters, strides=1, activation='swish', survival_prob=1, kernel_regularizer=None,  shortcut='identity', reduction=4):\n",
        "        super().__init__()\n",
        "        \n",
        "        self.filters = filters\n",
        "        self.strides = np.array([strides, strides]) if type(strides) == int else np.array(strides)\n",
        "        self.activation = activation\n",
        "        self.survival_prob = survival_prob\n",
        "        self.kernel_regularizer = kernel_regularizer\n",
        "        self.shortcut = shortcut\n",
        "        self.shortcut_mapping = None\n",
        "        self.reduction = reduction\n",
        "\n",
        "    def build(self, input_shape):\n",
        "\n",
        "        spatial_dim = np.array([input_shape[1], input_shape[2]])\n",
        "        channels = input_shape[-1]\n",
        "\n",
        "        self.batch_norm_1 = BatchNormalization()\n",
        "        self.activation_1 = Activation(self.activation)\n",
        "        self.conv_1 = Conv2D(self.filters//4, 1, padding='same', kernel_regularizer=self.kernel_regularizer)\n",
        "        \n",
        "        self.batch_norm_2 = BatchNormalization()\n",
        "        self.activation_2 = Activation(self.activation)\n",
        "        self.conv_2 =  Conv2D(self.filters//4, 3, strides=self.strides, padding='same', kernel_regularizer=self.kernel_regularizer)\n",
        "\n",
        "        self.batch_norm_3 = BatchNormalization()\n",
        "        self.activation_3 = Activation(self.activation)\n",
        "        self.conv_3 =  Conv2D(self.filters, 1, padding='same', kernel_regularizer=self.kernel_regularizer)\n",
        "\n",
        "        self.squeeze_and_excite = SqueezeAndExcite(self.filters//self.reduction)\n",
        "        \n",
        "        if channels != self.filters or self.strides.prod() != 1: \n",
        "          if self.shortcut == 'identity':\n",
        "            self.projection = AveragePooling2D(pool_size=self.strides, strides=self.strides, padding='same')\n",
        "            self.shortcut_mapping = lambda x : tf.pad(self.projection(x), [[0, 0], [0, 0], [0, 0], [0, self.filters - channels]])\n",
        "          if self.shortcut == 'projection':\n",
        "            self.projection = Conv2D(self.filters, 1, strides=self.strides, padding='same')\n",
        "            self.shortcut_mapping = lambda x : self.projection(x)\n",
        "        else:\n",
        "          self.shortcut_mapping = lambda x : x\n",
        "        \n",
        "        if self.survival_prob != 1:\n",
        "          self.stochastic_depth = StochasticDepth(self.survival_prob) \n",
        "\n",
        "    def call(self, x, training=False):\n",
        "        \n",
        "        r = self.batch_norm_1(x, training=training)\n",
        "        r = self.activation_1(r)\n",
        "        r = self.conv_1(r, training=training)\n",
        "        \n",
        "        r = self.batch_norm_2(r, training=training)\n",
        "        r = self.activation_2(r)\n",
        "        r = self.conv_2(r, training=training)\n",
        "\n",
        "        r = self.batch_norm_3(r, training=training)\n",
        "        r = self.activation_3(r)\n",
        "        r = self.conv_3(r, training=training)\n",
        "\n",
        "        r = self.squeeze_and_excite(r)\n",
        "\n",
        "        x = self.shortcut_mapping(x)\n",
        "\n",
        "        if self.survival_prob != 1:\n",
        "          return self.stochastic_depth([x, r], training=training)\n",
        "\n",
        "        return x + r"
      ]
    },
    {
      "cell_type": "code",
      "execution_count": null,
      "metadata": {
        "id": "9yTDXtMrqDfH"
      },
      "outputs": [],
      "source": [
        "models = [Sequential((\n",
        "    \n",
        "    Input(IMAGE_SIZE),\n",
        "\n",
        "    Conv2D(128, 3),\n",
        "    ResidualSEBlock(128, survival_prob=0.8),\n",
        "    ResidualSEBlock(128, survival_prob=0.8),\n",
        "    ResidualSEBlock(128, survival_prob=0.8),\n",
        "\n",
        "    ResidualSEBlock(128, strides=2),\n",
        "    ResidualSEBlock(128, survival_prob=0.8),\n",
        "    ResidualSEBlock(128, survival_prob=0.8),\n",
        "    ResidualSEBlock(128, survival_prob=0.8),\n",
        "\n",
        "    ResidualSEBlock(128, strides=2),\n",
        "    ResidualSEBlock(128, survival_prob=0.7),\n",
        "    ResidualSEBlock(256, survival_prob=0.7),\n",
        "    ResidualSEBlock(256, survival_prob=0.7),\n",
        "\n",
        "    ResidualSEBlock(256, strides=2),\n",
        "    ResidualSEBlock(256, survival_prob=0.6),\n",
        "    ResidualSEBlock(512, survival_prob=0.6),\n",
        "    ResidualSEBlock(512, survival_prob=0.6),\n",
        "\n",
        "    ResidualSEBlock(512, strides=2),\n",
        "    ResidualSEBlock(512, survival_prob=0.5),\n",
        "    ResidualSEBlock(512, survival_prob=0.5),\n",
        "    ResidualSEBlock(512, survival_prob=0.5),\n",
        "\n",
        "    BatchNormalization(),\n",
        "    Activation('swish'),\n",
        "    GlobalAveragePooling2D(),\n",
        "    Dense(1, activation='sigmoid')\n",
        "\n",
        ")) for i in range(NUM_MODELS)]\n",
        "\n",
        "models[0].summary()"
      ]
    },
    {
      "cell_type": "markdown",
      "metadata": {
        "id": "qZojwJedy3W1"
      },
      "source": [
        "## Validation"
      ]
    },
    {
      "cell_type": "code",
      "execution_count": null,
      "metadata": {
        "id": "a3BlCAA885EY"
      },
      "outputs": [],
      "source": [
        "for i, model in enumerate(models):\n",
        "  \n",
        "  opt = Adam(tf.keras.optimizers.schedules.ExponentialDecay(LEARNING_RATE, decay_steps=x_train.shape[0]//BATCH_SIZE*DECAY_EPOCHS, decay_rate=DECAY_RATE, staircase=STAIRCASE))\n",
        "  loss = BinaryCrossentropy()\n",
        "\n",
        "  model.compile(optimizer=opt, loss=loss, metrics=['accuracy'])\n",
        "  model.fit(x_train, y_train, batch_size=BATCH_SIZE, epochs=EPOCHS , validation_data=(x_test, y_test))"
      ]
    },
    {
      "cell_type": "markdown",
      "metadata": {
        "id": "cjLvZfVay9Ld"
      },
      "source": [
        "## Training"
      ]
    },
    {
      "cell_type": "code",
      "execution_count": null,
      "metadata": {
        "id": "9uxEC2FM6M7b"
      },
      "outputs": [],
      "source": [
        "for i, model in enumerate(models):\n",
        "  \n",
        "  opt = Adam(tf.keras.optimizers.schedules.ExponentialDecay(LEARNING_RATE, decay_steps=features.shape[0]//DECAY_ECPOHS, decay_rate=DECAY_RATE, staircase=STAIRCASE))\n",
        "  loss = BinaryCrossentropy()\n",
        "\n",
        "  model.compile(optimizer=opt, loss=loss, metrics=['accuracy'])\n",
        "  model.fit(features, labels, batch_size=BATCH_SIZE, epochs=ECPOCHS)\n",
        "\n",
        "  model.save(f'/content/drive/MyDrive/IJCNN/Models/model_{i+1}')\n",
        "  converter = tf.lite.TFLiteConverter.from_saved_model(f'/content/drive/MyDrive/IJCNN/Models/model_{i+1}')\n",
        "  tflite_model = converter.convert()\n",
        "  with open(f'/content/drive/MyDrive/IJCNN/Models/model_{i+1}.tflite', 'wb') as f:\n",
        "    f.write(tflite_model)"
      ]
    }
  ],
  "metadata": {
    "accelerator": "GPU",
    "colab": {
      "collapsed_sections": [],
      "machine_shape": "hm",
      "provenance": []
    },
    "kernelspec": {
      "display_name": "Python 3",
      "name": "python3"
    },
    "language_info": {
      "name": "python"
    }
  },
  "nbformat": 4,
  "nbformat_minor": 0
}
